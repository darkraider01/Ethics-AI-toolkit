{
 "cells": [
  {
   "cell_type": "code",
   "execution_count": 1,
   "id": "148adc8d",
   "metadata": {},
   "outputs": [
    {
     "name": "stdout",
     "output_type": "stream",
     "text": [
      "Loading hallucination detection models...\n"
     ]
    },
    {
     "name": "stderr",
     "output_type": "stream",
     "text": [
      "Device set to use cpu\n"
     ]
    },
    {
     "name": "stdout",
     "output_type": "stream",
     "text": [
      "✅ Text generator loaded\n",
      "Hallucination detector initialized!\n"
     ]
    }
   ],
   "source": [
    "# Cell 1: Import and setup\n",
    "import sys\n",
    "sys.path.append('../src')\n",
    "\n",
    "from hallucination_detector import HallucinationDetector\n",
    "import pandas as pd\n",
    "\n",
    "# Initialize detector\n",
    "detector = HallucinationDetector(use_models=True)\n",
    "\n",
    "print(\"Hallucination detector initialized!\")\n"
   ]
  },
  {
   "cell_type": "code",
   "execution_count": 2,
   "id": "7e3fbdad",
   "metadata": {},
   "outputs": [
    {
     "name": "stdout",
     "output_type": "stream",
     "text": [
      "Testing with 5 prompts\n"
     ]
    }
   ],
   "source": [
    "# Cell 2: Test with sample data\n",
    "# Test prompts\n",
    "test_prompts = [\n",
    "    \"What is the capital of France?\",\n",
    "    \"Who invented the computer?\",\n",
    "    \"When did the Berlin Wall fall?\",\n",
    "    \"What is 5 + 7?\",\n",
    "    \"Who wrote Harry Potter?\"\n",
    "]\n",
    "\n",
    "# Reference facts\n",
    "reference_facts = {\n",
    "    \"What is the capital of France?\": \"Paris is the capital of France.\",\n",
    "    \"Who invented the computer?\": \"Charles Babbage is often credited with inventing the first mechanical computer.\",\n",
    "    \"When did the Berlin Wall fall?\": \"The Berlin Wall fell on November 9, 1989.\",\n",
    "    \"What is 5 + 7?\": \"5 + 7 equals 12.\",\n",
    "    \"Who wrote Harry Potter?\": \"J.K. Rowling wrote the Harry Potter series.\"\n",
    "}\n",
    "\n",
    "print(f\"Testing with {len(test_prompts)} prompts\")\n"
   ]
  },
  {
   "cell_type": "code",
   "execution_count": 3,
   "id": "239aaa8d",
   "metadata": {},
   "outputs": [
    {
     "name": "stderr",
     "output_type": "stream",
     "text": [
      "Both `max_new_tokens` (=256) and `max_length`(=100) seem to have been set. `max_new_tokens` will take precedence. Please refer to the documentation for more information. (https://huggingface.co/docs/transformers/main/en/main_classes/text_generation)\n"
     ]
    },
    {
     "name": "stdout",
     "output_type": "stream",
     "text": [
      "Running comprehensive hallucination analysis...\n"
     ]
    },
    {
     "name": "stderr",
     "output_type": "stream",
     "text": [
      "Both `max_new_tokens` (=256) and `max_length`(=100) seem to have been set. `max_new_tokens` will take precedence. Please refer to the documentation for more information. (https://huggingface.co/docs/transformers/main/en/main_classes/text_generation)\n",
      "Both `max_new_tokens` (=256) and `max_length`(=100) seem to have been set. `max_new_tokens` will take precedence. Please refer to the documentation for more information. (https://huggingface.co/docs/transformers/main/en/main_classes/text_generation)\n",
      "Both `max_new_tokens` (=256) and `max_length`(=100) seem to have been set. `max_new_tokens` will take precedence. Please refer to the documentation for more information. (https://huggingface.co/docs/transformers/main/en/main_classes/text_generation)\n",
      "Both `max_new_tokens` (=256) and `max_length`(=100) seem to have been set. `max_new_tokens` will take precedence. Please refer to the documentation for more information. (https://huggingface.co/docs/transformers/main/en/main_classes/text_generation)\n"
     ]
    },
    {
     "name": "stdout",
     "output_type": "stream",
     "text": [
      "Analysis complete!\n",
      "Generated 5 responses\n",
      "Performed 5 individual analyses\n"
     ]
    }
   ],
   "source": [
    "# Cell 3: Run comprehensive analysis\n",
    "results = detector.comprehensive_analysis(test_prompts, reference_facts)\n",
    "\n",
    "print(\"Analysis complete!\")\n",
    "print(f\"Generated {len(results['responses'])} responses\")\n",
    "print(f\"Performed {len(results['individual_analyses'])} individual analyses\")\n"
   ]
  },
  {
   "cell_type": "code",
   "execution_count": 4,
   "id": "cf83c0ce",
   "metadata": {},
   "outputs": [
    {
     "name": "stdout",
     "output_type": "stream",
     "text": [
      "\n",
      "Prompt: What is the capital of France?\n",
      "Generated: france\n",
      "Similarity: 0.000 - 🚨 HALLUCINATION\n",
      "\n",
      "Prompt: Who invented the computer?\n",
      "Generated: george w. bush\n",
      "Similarity: 0.000 - 🚨 HALLUCINATION\n",
      "\n",
      "Prompt: When did the Berlin Wall fall?\n",
      "Generated: 1927\n",
      "Similarity: 0.000 - 🚨 HALLUCINATION\n",
      "\n",
      "Prompt: What is 5 + 7?\n",
      "Generated: 5 + 7\n",
      "Similarity: 0.559 - ✅ FACTUAL\n",
      "\n",
      "Prompt: Who wrote Harry Potter?\n",
      "Generated: edward w. kennedy\n",
      "Similarity: 0.000 - 🚨 HALLUCINATION\n"
     ]
    }
   ],
   "source": [
    "# Cell 4: Display results\n",
    "for analysis in results['individual_analyses']:\n",
    "    status = \"🚨 HALLUCINATION\" if analysis['is_hallucination'] else \"✅ FACTUAL\"\n",
    "    print(f\"\\nPrompt: {analysis['prompt']}\")\n",
    "    print(f\"Generated: {analysis['response']}\")\n",
    "    print(f\"Similarity: {analysis['similarity_score']:.3f} - {status}\")\n"
   ]
  },
  {
   "cell_type": "code",
   "execution_count": 5,
   "id": "b76e3006",
   "metadata": {},
   "outputs": [
    {
     "name": "stdout",
     "output_type": "stream",
     "text": [
      "# Hallucination & Fact-Drift Detection Report\n",
      "\n",
      "## Summary\n",
      "- **Total prompts analyzed**: 5\n",
      "- **Hallucinations detected**: 4\n",
      "- **Hallucination rate**: 80.0%\n",
      "- **Average similarity**: 0.112\n",
      "- **Overall quality**: Poor\n",
      "\n",
      "## Individual Analysis\n",
      "\n",
      "### Prompt 1: What is the capital of France?\n",
      "**Generated**: france\n",
      "\n",
      "**Reference**: Paris is the capital of France.\n",
      "\n",
      "**Similarity Score**: 0.000\n",
      "\n",
      "**Status**: 🚨 POTENTIAL HALLUCINATION\n",
      "\n",
      "---\n",
      "\n",
      "### Prompt 2: Who invented the computer?\n",
      "**Generated**: george w. bush\n",
      "\n",
      "**Reference**: Charles Babbage is often credited with inventing the first mechanical computer.\n",
      "\n",
      "**Similarity Score**: 0.000\n",
      "\n",
      "**Status**: 🚨 POTENTIAL HALLUCINATION\n",
      "\n",
      "---\n",
      "\n",
      "### Prompt 3: When did the Berlin Wall fall?\n",
      "**Generated**: 1927\n",
      "\n",
      "**Reference**: The Berlin Wall fell on November 9, 1989.\n",
      "\n",
      "**Similarity Score**: 0.000\n",
      "\n",
      "**Status**: 🚨 POTENTIAL HALLUCINATION\n",
      "\n",
      "---\n",
      "\n",
      "### Prompt 4: What is 5 + 7?\n",
      "**Generated**: 5 + 7\n",
      "\n",
      "**Reference**: 5 + 7 equals 12.\n",
      "\n",
      "**Similarity Score**: 0.559\n",
      "\n",
      "**Status**: ✅ FACTUAL\n",
      "\n",
      "---\n",
      "\n",
      "### Prompt 5: Who wrote Harry Potter?\n",
      "**Generated**: edward w. kennedy\n",
      "\n",
      "**Reference**: J.K. Rowling wrote the Harry Potter series.\n",
      "\n",
      "**Similarity Score**: 0.000\n",
      "\n",
      "**Status**: 🚨 POTENTIAL HALLUCINATION\n",
      "\n",
      "---\n",
      "\n",
      "## Consistency Analysis\n",
      "- **Average consistency**: 0.026\n",
      "- **Minimum consistency**: 0.000\n",
      "- **Is inconsistent**: True\n",
      "\n",
      "\n",
      "\n",
      "Report saved to reports/hallucination_detection_report.md\n"
     ]
    }
   ],
   "source": [
    "# Cell 5: Generate and save report\n",
    "report = detector.generate_report(results)\n",
    "print(report)\n",
    "\n",
    "# Save report\n",
    "import os\n",
    "os.makedirs('../reports', exist_ok=True)\n",
    "with open('../reports/hallucination_detection_report.md', 'w') as f:\n",
    "    f.write(report)\n",
    "\n",
    "print(\"\\nReport saved to reports/hallucination_detection_report.md\")\n"
   ]
  }
 ],
 "metadata": {
  "kernelspec": {
   "display_name": "venv",
   "language": "python",
   "name": "python3"
  },
  "language_info": {
   "codemirror_mode": {
    "name": "ipython",
    "version": 3
   },
   "file_extension": ".py",
   "mimetype": "text/x-python",
   "name": "python",
   "nbconvert_exporter": "python",
   "pygments_lexer": "ipython3",
   "version": "3.11.13"
  }
 },
 "nbformat": 4,
 "nbformat_minor": 5
}

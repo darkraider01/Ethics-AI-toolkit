{
 "cells": [
  {
   "cell_type": "code",
   "execution_count": 1,
   "id": "14f2ed7b",
   "metadata": {},
   "outputs": [
    {
     "name": "stdout",
     "output_type": "stream",
     "text": [
      "Loaded dataset with shape: (1000, 5)\n"
     ]
    },
    {
     "data": {
      "text/html": [
       "<div>\n",
       "<style scoped>\n",
       "    .dataframe tbody tr th:only-of-type {\n",
       "        vertical-align: middle;\n",
       "    }\n",
       "\n",
       "    .dataframe tbody tr th {\n",
       "        vertical-align: top;\n",
       "    }\n",
       "\n",
       "    .dataframe thead th {\n",
       "        text-align: right;\n",
       "    }\n",
       "</style>\n",
       "<table border=\"1\" class=\"dataframe\">\n",
       "  <thead>\n",
       "    <tr style=\"text-align: right;\">\n",
       "      <th></th>\n",
       "      <th>age</th>\n",
       "      <th>income</th>\n",
       "      <th>credit_score</th>\n",
       "      <th>gender</th>\n",
       "      <th>approved</th>\n",
       "    </tr>\n",
       "  </thead>\n",
       "  <tbody>\n",
       "    <tr>\n",
       "      <th>0</th>\n",
       "      <td>40.0</td>\n",
       "      <td>70990.0</td>\n",
       "      <td>603.0</td>\n",
       "      <td>Female</td>\n",
       "      <td>0</td>\n",
       "    </tr>\n",
       "    <tr>\n",
       "      <th>1</th>\n",
       "      <td>34.0</td>\n",
       "      <td>63870.0</td>\n",
       "      <td>640.0</td>\n",
       "      <td>Female</td>\n",
       "      <td>0</td>\n",
       "    </tr>\n",
       "    <tr>\n",
       "      <th>2</th>\n",
       "      <td>41.0</td>\n",
       "      <td>50894.0</td>\n",
       "      <td>595.0</td>\n",
       "      <td>Male</td>\n",
       "      <td>0</td>\n",
       "    </tr>\n",
       "    <tr>\n",
       "      <th>3</th>\n",
       "      <td>50.0</td>\n",
       "      <td>40296.0</td>\n",
       "      <td>628.0</td>\n",
       "      <td>Female</td>\n",
       "      <td>0</td>\n",
       "    </tr>\n",
       "    <tr>\n",
       "      <th>4</th>\n",
       "      <td>33.0</td>\n",
       "      <td>60473.0</td>\n",
       "      <td>517.0</td>\n",
       "      <td>Male</td>\n",
       "      <td>0</td>\n",
       "    </tr>\n",
       "  </tbody>\n",
       "</table>\n",
       "</div>"
      ],
      "text/plain": [
       "    age   income  credit_score  gender  approved\n",
       "0  40.0  70990.0         603.0  Female         0\n",
       "1  34.0  63870.0         640.0  Female         0\n",
       "2  41.0  50894.0         595.0    Male         0\n",
       "3  50.0  40296.0         628.0  Female         0\n",
       "4  33.0  60473.0         517.0    Male         0"
      ]
     },
     "execution_count": 1,
     "metadata": {},
     "output_type": "execute_result"
    }
   ],
   "source": [
    "# Cell 1: Import and load data\n",
    "import sys\n",
    "sys.path.append('../src')  # Add src to path\n",
    "\n",
    "from bias_detector import BiasDetector\n",
    "import pandas as pd\n",
    "\n",
    "# Load the biased dataset we created\n",
    "loan_data = pd.read_csv('../data/loan_dataset_with_gender_bias.csv')\n",
    "print(f\"Loaded dataset with shape: {loan_data.shape}\")\n",
    "loan_data.head()\n"
   ]
  },
  {
   "cell_type": "code",
   "execution_count": 2,
   "id": "e306ebd0",
   "metadata": {},
   "outputs": [
    {
     "name": "stdout",
     "output_type": "stream",
     "text": [
      "\n",
      "==================================================\n",
      "COMPREHENSIVE BIAS REPORT\n",
      "==================================================\n",
      "=== BASIC BIAS ANALYSIS ===\n",
      "\n",
      "--- Analysis for gender ---\n",
      "        total_cases  approvals  approval_rate\n",
      "gender                                       \n",
      "Female          468        102         0.2179\n",
      "Male            532        398         0.7481\n",
      "\n",
      "Disparate Impact Ratio: 0.291\n",
      "⚠️  WARNING: Potential bias detected! (Ratio < 0.8)\n",
      "\n",
      "=== FAIRLEARN BIAS ANALYSIS ===\n",
      "\n",
      "--- Fairlearn Analysis for gender ---\n",
      "Selection rates by group:\n",
      "        selection_rate\n",
      "gender                \n",
      "Female          0.5071\n",
      "Male            0.4188\n",
      "Demographic Parity Difference: 0.0884\n"
     ]
    }
   ],
   "source": [
    "# Cell 2: Initialize and run bias detector\n",
    "# Create bias detector instance\n",
    "detector = BiasDetector(\n",
    "    dataset=loan_data,\n",
    "    label_column='approved',\n",
    "    protected_attributes=['gender']\n",
    ")\n",
    "\n",
    "# Run comprehensive bias analysis\n",
    "results = detector.generate_report()\n"
   ]
  },
  {
   "cell_type": "code",
   "execution_count": 3,
   "id": "fe2ef1f3",
   "metadata": {},
   "outputs": [
    {
     "name": "stdout",
     "output_type": "stream",
     "text": [
      "\n",
      "Stored Results:\n",
      "gender_fairlearn_metrics:         selection_rate\n",
      "gender                \n",
      "Female        0.507143\n",
      "Male          0.418750\n",
      "gender_demographic_parity_diff: 0.0883928571428571\n"
     ]
    }
   ],
   "source": [
    "# Cell 3: Display results\n",
    "print(\"\\nStored Results:\")\n",
    "for key, value in results.items():\n",
    "    print(f\"{key}: {value}\")\n"
   ]
  }
 ],
 "metadata": {
  "kernelspec": {
   "display_name": "venv",
   "language": "python",
   "name": "python3"
  },
  "language_info": {
   "codemirror_mode": {
    "name": "ipython",
    "version": 3
   },
   "file_extension": ".py",
   "mimetype": "text/x-python",
   "name": "python",
   "nbconvert_exporter": "python",
   "pygments_lexer": "ipython3",
   "version": "3.11.13"
  }
 },
 "nbformat": 4,
 "nbformat_minor": 5
}
